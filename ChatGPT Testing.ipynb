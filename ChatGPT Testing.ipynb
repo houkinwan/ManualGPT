{
 "cells": [
  {
   "cell_type": "code",
   "execution_count": 1,
   "id": "623299bf",
   "metadata": {},
   "outputs": [],
   "source": [
    "import os\n",
    "import openai\n",
    "import datetime\n",
    "import pandas as pd\n",
    "import json\n",
    "import PyPDF2 as pdf\n",
    "from PyPDF2 import PdfReader\n",
    "import numpy as np\n",
    "import time"
   ]
  },
  {
   "cell_type": "code",
   "execution_count": 2,
   "id": "678f2a43",
   "metadata": {},
   "outputs": [],
   "source": [
    "api_key_file = open(\"OPENAI_API_KEY\", \"r\")\n",
    "openai.api_key = api_key_file.read()"
   ]
  },
  {
   "cell_type": "markdown",
   "id": "eb287772",
   "metadata": {},
   "source": [
    "### Dataframes"
   ]
  },
  {
   "cell_type": "code",
   "execution_count": 5,
   "id": "f29ed754",
   "metadata": {},
   "outputs": [
    {
     "data": {
      "text/html": [
       "<div>\n",
       "<style scoped>\n",
       "    .dataframe tbody tr th:only-of-type {\n",
       "        vertical-align: middle;\n",
       "    }\n",
       "\n",
       "    .dataframe tbody tr th {\n",
       "        vertical-align: top;\n",
       "    }\n",
       "\n",
       "    .dataframe thead th {\n",
       "        text-align: right;\n",
       "    }\n",
       "</style>\n",
       "<table border=\"1\" class=\"dataframe\">\n",
       "  <thead>\n",
       "    <tr style=\"text-align: right;\">\n",
       "      <th></th>\n",
       "      <th>productID</th>\n",
       "      <th>time</th>\n",
       "      <th>status</th>\n",
       "    </tr>\n",
       "    <tr>\n",
       "      <th>orderID</th>\n",
       "      <th></th>\n",
       "      <th></th>\n",
       "      <th></th>\n",
       "    </tr>\n",
       "  </thead>\n",
       "  <tbody>\n",
       "    <tr>\n",
       "      <th>1</th>\n",
       "      <td>a</td>\n",
       "      <td>2023-07-31 22:38:26.368576</td>\n",
       "      <td>delivered</td>\n",
       "    </tr>\n",
       "    <tr>\n",
       "      <th>2</th>\n",
       "      <td>b</td>\n",
       "      <td>2023-07-31 22:38:26.368626</td>\n",
       "      <td>pending</td>\n",
       "    </tr>\n",
       "    <tr>\n",
       "      <th>3</th>\n",
       "      <td>c</td>\n",
       "      <td>2023-07-31 22:38:26.368633</td>\n",
       "      <td>issue</td>\n",
       "    </tr>\n",
       "  </tbody>\n",
       "</table>\n",
       "</div>"
      ],
      "text/plain": [
       "        productID                        time     status\n",
       "orderID                                                 \n",
       "1               a  2023-07-31 22:38:26.368576  delivered\n",
       "2               b  2023-07-31 22:38:26.368626    pending\n",
       "3               c  2023-07-31 22:38:26.368633      issue"
      ]
     },
     "execution_count": 5,
     "metadata": {},
     "output_type": "execute_result"
    }
   ],
   "source": [
    "orders_df = pd.DataFrame({\"orderID\":[1,2,3], \"productID\":[\"a\",\"b\",\"c\"],\"time\":[get_time(),get_time(),get_time()],\"status\":[\"delivered\",\"pending\",\"issue\"]}).set_index(\"orderID\")\n",
    "orders_df"
   ]
  },
  {
   "cell_type": "code",
   "execution_count": 6,
   "id": "a9f355e8",
   "metadata": {},
   "outputs": [
    {
     "data": {
      "text/html": [
       "<div>\n",
       "<style scoped>\n",
       "    .dataframe tbody tr th:only-of-type {\n",
       "        vertical-align: middle;\n",
       "    }\n",
       "\n",
       "    .dataframe tbody tr th {\n",
       "        vertical-align: top;\n",
       "    }\n",
       "\n",
       "    .dataframe thead th {\n",
       "        text-align: right;\n",
       "    }\n",
       "</style>\n",
       "<table border=\"1\" class=\"dataframe\">\n",
       "  <thead>\n",
       "    <tr style=\"text-align: right;\">\n",
       "      <th></th>\n",
       "      <th>userID</th>\n",
       "      <th>ticket_details</th>\n",
       "      <th>time</th>\n",
       "    </tr>\n",
       "  </thead>\n",
       "  <tbody>\n",
       "  </tbody>\n",
       "</table>\n",
       "</div>"
      ],
      "text/plain": [
       "Empty DataFrame\n",
       "Columns: [userID, ticket_details, time]\n",
       "Index: []"
      ]
     },
     "execution_count": 6,
     "metadata": {},
     "output_type": "execute_result"
    }
   ],
   "source": [
    "tickets_df = pd.DataFrame({\"userID\":[], \"ticket_details\":[],\"time\":[]})\n",
    "tickets_df"
   ]
  },
  {
   "cell_type": "markdown",
   "id": "63d2e227",
   "metadata": {},
   "source": [
    "### Functions"
   ]
  },
  {
   "cell_type": "code",
   "execution_count": 4,
   "id": "1903c708",
   "metadata": {},
   "outputs": [],
   "source": [
    "def get_time():\n",
    "    ct = datetime.datetime.now()\n",
    "    return str(ct)\n",
    "\n",
    "def get_status(orderID):\n",
    "    return str(dict(orders_df[orders_df.index == orderID].reset_index().loc[0]))\n",
    "    \n",
    "    \n",
    "def file_ticket(userID, ticket_details):\n",
    "    global tickets_df\n",
    "    tickets_df = tickets_df.append({\"userID\":userID, \"ticket_details\":ticket_details,\"time\":get_time()},ignore_index=True)\n",
    "    return \"Ticket Submitted\""
   ]
  },
  {
   "cell_type": "markdown",
   "id": "4e9affc4",
   "metadata": {},
   "source": [
    "### GPT Code"
   ]
  },
  {
   "cell_type": "code",
   "execution_count": 7,
   "id": "bcb4abe1",
   "metadata": {},
   "outputs": [],
   "source": [
    "premise = \"You’re a kind helpful tech support chatbot. For ticket filings: Ensure that the user provides their UserID when asking for details. If they do not provide their ID, do not let them file a ticket. When the ticket is filed successfuly, do not provide advice.\"\n",
    "premise = premise\n",
    "messages=[\n",
    "    {\"role\": \"system\", \"content\": premise}\n",
    "      ]\n",
    "functions=[{\n",
    "                \"name\": \"get_time\",\n",
    "                \"description\": \"returns string representation of a datetime object. For reference, this is in Singapore, so be able to guess the time in other time zones when a different country is specified\",\n",
    "                \"parameters\": {\n",
    "                    \"type\": \"object\",\n",
    "                    \"properties\": {\n",
    "                    },\n",
    "                    \"required\": [],\n",
    "                },\n",
    "            },\n",
    "    {\n",
    "                \"name\": \"file_ticket\",\n",
    "                \"description\": \"files a ticket to a dataframe, logging UserID and ticket_details.\",\n",
    "                \"parameters\": {\n",
    "                    \"type\": \"object\",\n",
    "                    \"properties\": {\n",
    "                        \"userID\": {\"type\": \"integer\"},\n",
    "                        \"ticket_details\": {\"type\": \"string\"},\n",
    "                    },\n",
    "                    \"required\": [\"userID\",\"ticket_details\"],\n",
    "                },\n",
    "            },\n",
    "    \n",
    "    {\n",
    "                \"name\": \"get_status\",\n",
    "                \"description\": \"gets the status in dictionary form of an order of a specific order ID\",\n",
    "                \"parameters\": {\n",
    "                    \"type\": \"object\",\n",
    "                    \"properties\": {\n",
    "                        \"orderID\": {\"type\": \"integer\"},\n",
    "                    },\n",
    "                    \"required\": [\"orderID\"],\n",
    "                },\n",
    "            }\n",
    "]\n",
    "\n",
    "\n",
    "\n",
    "def conversation(response):\n",
    "    content = response\n",
    "    messages.append({\"role\": \"user\", \"content\": content})\n",
    "    \n",
    "    completion = openai.ChatCompletion.create(\n",
    "    model=\"gpt-3.5-turbo-0613\",\n",
    "    messages=messages,\n",
    "    functions=functions, function_call = \"auto\",\n",
    "    )\n",
    "    message = completion[\"choices\"][0][\"message\"]\n",
    "    \n",
    "    #Functions Block\n",
    "    if message.get(\"function_call\"):\n",
    "        function_name = message[\"function_call\"][\"name\"]\n",
    "        print(message[\"function_call\"][\"arguments\"])\n",
    "        arguments = json.loads(message[\"function_call\"][\"arguments\"])\n",
    "        \n",
    "        \n",
    "        #Time Function\n",
    "        if function_name == \"get_time\":\n",
    "            function_response = get_time()\n",
    "            \n",
    "        #Ticket Function\n",
    "        elif function_name == \"file_ticket\":\n",
    "            function_response = file_ticket(arguments[\"userID\"],arguments[\"ticket_details\"])\n",
    "        \n",
    "        #Order Status\n",
    "        elif function_name == \"get_status\":\n",
    "            function_response = get_status(arguments[\"orderID\"])\n",
    "            \n",
    "        #Error Handling\n",
    "        else:\n",
    "            raise NotImplementedError()\n",
    "        \n",
    "        messages.append({\"role\":\"function\",\"name\":function_name,\"content\":function_response})\n",
    "        second_response = openai.ChatCompletion.create(\n",
    "            model=\"gpt-3.5-turbo-0613\",\n",
    "            messages = messages,\n",
    "        )\n",
    "        answer_response = second_response.choices[0][\"message\"][\"content\"].strip()\n",
    "        messages.append({\"role\": \"assistant\", \"content\": answer_response})\n",
    "    \n",
    "    \n",
    "    #Normal Block\n",
    "    else:\n",
    "        chat_response = completion.choices[0].message.content\n",
    "        messages.append({\"role\": \"assistant\", \"content\": chat_response})\n",
    "    for i in messages:\n",
    "        if i['role'] == \"user\":\n",
    "            print(\"User: \", i['content'])\n",
    "            #print(\"\\n\")\n",
    "        elif i['role'] == \"assistant\":\n",
    "            print(\"ChatGPT: \", i['content'])\n",
    "        print(\"\\n\")\n",
    "    "
   ]
  },
  {
   "cell_type": "code",
   "execution_count": 14,
   "id": "992460d8",
   "metadata": {},
   "outputs": [
    {
     "name": "stdout",
     "output_type": "stream",
     "text": [
      "{}\n",
      "\n",
      "\n",
      "User:  Hello wasyp\n",
      "\n",
      "\n",
      "ChatGPT:  Hello! How can I assist you today?\n",
      "\n",
      "\n",
      "User:  Yo I wanna find out bout mah order i need the details\n",
      "\n",
      "\n",
      "ChatGPT:  Sure, I can help you with that. Please provide me with your order ID so that I can retrieve the details for you.\n",
      "\n",
      "\n",
      "User:  我的orderID是2\n",
      "\n",
      "\n",
      "\n",
      "\n",
      "ChatGPT:  Thank you for providing your order ID. I have found the details of your order. Here is what I have:\n",
      "\n",
      "- Order ID: 2\n",
      "- Product ID: b\n",
      "- Time of order: 2023-07-31 22:38:26\n",
      "- Status: Pending\n",
      "\n",
      "If you have any further questions or need assistance, please let me know!\n",
      "\n",
      "\n",
      "User:  我要file ticket\n",
      "\n",
      "\n",
      "ChatGPT:  Sure, I can help you file a ticket. Please provide me with your User ID and the details of the ticket you would like to file.\n",
      "\n",
      "\n",
      "User:  WHAT IS TFT THE GAME\n",
      "\n",
      "\n",
      "ChatGPT:  TFT stands for Teamfight Tactics. It is an online multiplayer strategy game developed by Riot Games. In TFT, players build and manage a team of champions to battle against other players. The goal is to create the strongest team and strategically position them on the board to win battles and progress in the game. If you have any other questions or need assistance, feel free to ask.\n",
      "\n",
      "\n",
      "User:  WHAT time is it\n",
      "\n",
      "\n",
      "\n",
      "\n",
      "ChatGPT:  The current time is 2023-07-31 22:44:25. Is there anything else I can assist you with?\n",
      "\n",
      "\n"
     ]
    }
   ],
   "source": [
    "conversation(\"WHAT time is it\")\n",
    "\n"
   ]
  },
  {
   "cell_type": "code",
   "execution_count": 8,
   "id": "647b6d16",
   "metadata": {},
   "outputs": [
    {
     "data": {
      "text/html": [
       "<div>\n",
       "<style scoped>\n",
       "    .dataframe tbody tr th:only-of-type {\n",
       "        vertical-align: middle;\n",
       "    }\n",
       "\n",
       "    .dataframe tbody tr th {\n",
       "        vertical-align: top;\n",
       "    }\n",
       "\n",
       "    .dataframe thead th {\n",
       "        text-align: right;\n",
       "    }\n",
       "</style>\n",
       "<table border=\"1\" class=\"dataframe\">\n",
       "  <thead>\n",
       "    <tr style=\"text-align: right;\">\n",
       "      <th></th>\n",
       "      <th>userID</th>\n",
       "      <th>ticket_details</th>\n",
       "      <th>time</th>\n",
       "    </tr>\n",
       "  </thead>\n",
       "  <tbody>\n",
       "  </tbody>\n",
       "</table>\n",
       "</div>"
      ],
      "text/plain": [
       "Empty DataFrame\n",
       "Columns: [userID, ticket_details, time]\n",
       "Index: []"
      ]
     },
     "execution_count": 8,
     "metadata": {},
     "output_type": "execute_result"
    }
   ],
   "source": [
    "tickets_df"
   ]
  }
 ],
 "metadata": {
  "kernelspec": {
   "display_name": "Python 3 (ipykernel)",
   "language": "python",
   "name": "python3"
  },
  "language_info": {
   "codemirror_mode": {
    "name": "ipython",
    "version": 3
   },
   "file_extension": ".py",
   "mimetype": "text/x-python",
   "name": "python",
   "nbconvert_exporter": "python",
   "pygments_lexer": "ipython3",
   "version": "3.9.13"
  }
 },
 "nbformat": 4,
 "nbformat_minor": 5
}
