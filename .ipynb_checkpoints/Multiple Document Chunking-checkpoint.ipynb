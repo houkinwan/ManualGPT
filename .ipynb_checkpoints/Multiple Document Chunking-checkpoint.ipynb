{
 "cells": [
  {
   "cell_type": "markdown",
   "id": "5c6cbc72",
   "metadata": {},
   "source": [
    "### Multiple Documents"
   ]
  },
  {
   "cell_type": "code",
   "execution_count": 1,
   "id": "64b64c43",
   "metadata": {},
   "outputs": [],
   "source": [
    "import PyPDF2 as pdf\n",
    "from PyPDF2 import PdfReader\n",
    "import os\n",
    "import pandas as pd\n",
    "import re\n",
    "import openai\n",
    "import time\n",
    "import pandas as pd\n",
    "import numpy as np\n",
    "import warnings\n",
    "warnings.filterwarnings('ignore')\n",
    "api_key_file = open(\"OPENAI_API_KEY\", \"r\")\n",
    "openai.api_key = api_key_file.read()"
   ]
  },
  {
   "cell_type": "code",
   "execution_count": 54,
   "id": "dd03ffd8",
   "metadata": {},
   "outputs": [],
   "source": [
    "pdf_list = os.listdir(\"pdfs\")"
   ]
  },
  {
   "cell_type": "markdown",
   "id": "7e189f9d",
   "metadata": {},
   "source": [
    "#### Assign ID"
   ]
  },
  {
   "cell_type": "code",
   "execution_count": 55,
   "id": "d7d5fd29",
   "metadata": {},
   "outputs": [
    {
     "data": {
      "text/plain": [
       "{0: 'Wi-Fi-6-OFDMA-App-Notes-091319-web.pdf',\n",
       " 1: 'STBC.pdf',\n",
       " 2: 'How to change the country code for WiFi.pdf',\n",
       " 3: 'SPF53_SPF61_programmer guide.pdf',\n",
       " 4: 'usb3-frequency-interference-papers.pdf',\n",
       " 5: 'FCC-Rules-and-Regulations.pdf',\n",
       " 6: 'programming uci shrinked.pdf',\n",
       " 7: 'nor_nand_flash_guide.pdf',\n",
       " 8: 'RadioChannelDFS.pdf'}"
      ]
     },
     "execution_count": 55,
     "metadata": {},
     "output_type": "execute_result"
    }
   ],
   "source": [
    "id_dict = dict(list(zip(pdf_list,range(0,len(pdf_list)))))\n",
    "pdf_dict = {v: k for k, v in id_dict.items()}\n",
    "pdf_dict"
   ]
  },
  {
   "cell_type": "markdown",
   "id": "1eee21cc",
   "metadata": {},
   "source": [
    "#### Iterate through"
   ]
  },
  {
   "cell_type": "code",
   "execution_count": 4,
   "id": "6983dd93",
   "metadata": {},
   "outputs": [
    {
     "name": "stderr",
     "output_type": "stream",
     "text": [
      "incorrect startxref pointer(1)\n"
     ]
    }
   ],
   "source": [
    "# Create dataframe for each individual pdf\n",
    "df_list = []\n",
    "for i,pdf in enumerate(pdf_list):\n",
    "    \n",
    "    cur_pdf = []\n",
    "    \n",
    "    with open(\"pdfs/\" + pdf,\"rb\") as file:\n",
    "        reader = PdfReader(file)\n",
    "        for j in range(0, len(reader.pages)):\n",
    "            cur_string = reader.pages[j].extract_text()\n",
    "            cur_pdf.append(\"|start of page {} \".format(j+1)+cur_string + \" end of page {}|\".format(j+1))\n",
    "\n",
    "    cur_df = pd.DataFrame({\"page\":list(range(1,len(cur_pdf)+1)),\"text\":cur_pdf})\n",
    "    df_list.append((pdf,cur_df))\n",
    "\n",
    "    \n",
    "\n",
    "    \n"
   ]
  },
  {
   "cell_type": "code",
   "execution_count": 5,
   "id": "b1f500b4",
   "metadata": {},
   "outputs": [],
   "source": [
    "# Create embeddings for each page in each pdf\n",
    "from openai.embeddings_utils import get_embedding\n",
    "def embed(x):\n",
    "    return get_embedding(x, engine=\"text-embedding-ada-002\")\n",
    "\n"
   ]
  },
  {
   "cell_type": "code",
   "execution_count": null,
   "id": "33b5f89f",
   "metadata": {},
   "outputs": [],
   "source": [
    "for i in df_list:\n",
    "    i[1][\"pg_embedding\"] = i[1][\"text\"].apply(lambda x: embed(x))"
   ]
  },
  {
   "cell_type": "code",
   "execution_count": 31,
   "id": "b2eef23d",
   "metadata": {},
   "outputs": [],
   "source": [
    "# Save all embeddings\n",
    "for df_pair in df_list:\n",
    "    np.save(\"Multiple Documents/embeddings/\"+df_pair[0][0:-4]+\"_ebded\",np.array(list(df_pair[1]['pg_embedding'])))"
   ]
  },
  {
   "cell_type": "code",
   "execution_count": 33,
   "id": "a195b072",
   "metadata": {},
   "outputs": [],
   "source": [
    "def add_document(pdf):\n",
    "    cur_id = max(id_dict.values()) + 1\n",
    "    id_dict[pdf] = cur_id\n",
    "    pdf_dict[cur_id] = pdf\n",
    "\n",
    "    \n",
    "    # Create dataframe for each individual pdf\n",
    "\n",
    "    cur_pdf = []\n",
    "\n",
    "    with open(\"pdfs/\" + pdf,\"rb\") as file:\n",
    "        reader = PdfReader(file)\n",
    "        for j in range(0, len(reader.pages)):\n",
    "            cur_string = reader.pages[j].extract_text()\n",
    "            cur_pdf.append(\"|start of page {} \".format(j+1)+cur_string + \" end of page {}|\".format(j+1))\n",
    "\n",
    "    cur_df = pd.DataFrame({\"page\":list(range(1,len(cur_pdf)+1)),\"text\":cur_pdf})\n",
    "    cur_df[\"pg_embedding\"] = cur_df[\"text\"].apply(lambda x: embed(x))\n",
    "    df_list.append((pdf,cur_df))\n",
    "    for df_pair in df_list:\n",
    "        np.save(\"Multiple Documents/embeddings/\"+df_pair[0][0:-4]+\"_ebded\",np.array(list(df_pair[1]['pg_embedding'])))"
   ]
  },
  {
   "cell_type": "code",
   "execution_count": 34,
   "id": "2661965d",
   "metadata": {},
   "outputs": [],
   "source": [
    "add_document(\"Chess_ The Complete Guide To Chess - Master_ Chess Tactics, Chess Openings, and Chess Strategies.pdf\")"
   ]
  },
  {
   "cell_type": "code",
   "execution_count": 8,
   "id": "5de2cfa1",
   "metadata": {},
   "outputs": [
    {
     "name": "stdout",
     "output_type": "stream",
     "text": [
      "Wi-Fi-6-OFDMA-App-Notes-091319-web.pdf\n",
      "STBC.pdf\n",
      "How to change the country code for WiFi.pdf\n",
      "SPF53_SPF61_programmer guide.pdf\n",
      "usb3-frequency-interference-papers.pdf\n",
      "FCC-Rules-and-Regulations.pdf\n",
      "programming uci shrinked.pdf\n",
      "nor_nand_flash_guide.pdf\n",
      "RadioChannelDFS.pdf\n"
     ]
    }
   ],
   "source": [
    "# Load all embeddings\n",
    "\n",
    "for df_pair in df_list:\n",
    "    print(df_pair[0])\n",
    "    cur_array = np.load(\"Multiple Documents/embeddings/\"+df_pair[0][0:-4]+\"_ebded.npy\")\n",
    "    df_pair[1][\"pg_embedding\"] = list(cur_array)\n"
   ]
  },
  {
   "cell_type": "code",
   "execution_count": 39,
   "id": "5cb0fd49",
   "metadata": {},
   "outputs": [],
   "source": [
    "# Average Embeddings for Individual Documents\n",
    "avg_embedding_pairs = []\n",
    "\n",
    "for df_pair in df_list:\n",
    "    avg_embedding = np.array(list(df_pair[1][\"pg_embedding\"])).mean(axis=0)\n",
    "    avg_embedding_pairs.append((df_pair[0],avg_embedding))\n"
   ]
  },
  {
   "cell_type": "code",
   "execution_count": 40,
   "id": "afbbbb16",
   "metadata": {},
   "outputs": [],
   "source": [
    "avg_embedding_pairs_df = pd.DataFrame({\"pdf\":[i[0] for i in avg_embedding_pairs], \"avg_embedding\":[i[1] for i in avg_embedding_pairs], \"id\":list(range(0,len(avg_embedding_pairs)))})"
   ]
  },
  {
   "cell_type": "code",
   "execution_count": 41,
   "id": "5e08e7ce",
   "metadata": {},
   "outputs": [],
   "source": [
    "avg_embedding_pairs_df.to_csv(\"Multiple Documents/avg_embedding_pairs_df\")\n"
   ]
  },
  {
   "cell_type": "code",
   "execution_count": 42,
   "id": "64c04f94",
   "metadata": {},
   "outputs": [],
   "source": [
    "entire_df = avg_embedding_pairs_df.copy()\n",
    "\n",
    "\n",
    "\n",
    "for i,df_pair in enumerate(df_list):\n",
    "    df_pair[1][\"id\"] = np.full(df_pair[1].shape[0],i)\n",
    "    \n",
    "    "
   ]
  },
  {
   "cell_type": "code",
   "execution_count": 43,
   "id": "028acf11",
   "metadata": {},
   "outputs": [],
   "source": [
    "final_df = pd.concat([i[1] for i in df_list]).set_index('id').join(entire_df.set_index('id'))\n"
   ]
  },
  {
   "cell_type": "code",
   "execution_count": 44,
   "id": "af45bbd1",
   "metadata": {},
   "outputs": [],
   "source": [
    "final_df.to_csv(\"Multiple Documents/final_pdf_df\")"
   ]
  },
  {
   "cell_type": "code",
   "execution_count": 46,
   "id": "35f673d0",
   "metadata": {},
   "outputs": [],
   "source": [
    "def get_suitable_documents(prompt, k_docs=3):\n",
    "    embedded_prompt = embed(prompt)\n",
    "    ranking = avg_embedding_pairs_df.copy()\n",
    "    ranking[\"cos\"] = ranking[\"avg_embedding\"].apply(lambda x: x@embedded_prompt)\n",
    "    ranked_df = ranking.sort_values(by=\"cos\",ascending=False)\n",
    "    with open('Multiple Documents/logfile.txt', 'a') as f:\n",
    "        f.write(\"looking at:\"+str(list(ranked_df[\"pdf\"])[0:k_docs]))\n",
    "        f.write(\"\\n\")\n",
    "    print(\"looking at:\",list(ranked_df[\"pdf\"])[0:k_docs])\n",
    "    return list(ranked_df[\"id\"][0:k_docs])"
   ]
  },
  {
   "cell_type": "code",
   "execution_count": 47,
   "id": "a60fc684",
   "metadata": {},
   "outputs": [],
   "source": [
    "def get_page_text(pdf_ID,pg):\n",
    "    try:\n",
    "        text = final_df[final_df[\"page\"] == pg].loc[pdf_ID][\"text\"]\n",
    "        pdf_name = pdf_dict[pdf_ID]\n",
    "        return \"|||From the manual \" + pdf_name + \": \" + text\n",
    "    except:\n",
    "        return \"\"\n",
    "    \n"
   ]
  },
  {
   "cell_type": "code",
   "execution_count": 48,
   "id": "e5489bca",
   "metadata": {},
   "outputs": [],
   "source": [
    "def get_suitable_text(prompt,k_docs=8, k_pages=10):\n",
    "    #Find suitable manuals\n",
    "    embedded_prompt = embed(prompt)\n",
    "    doc_ids = get_suitable_documents(prompt,k_docs)\n",
    "    filtered_df = final_df[final_df.index.isin(doc_ids)]\n",
    "    #Merge Documents\n",
    "    filtered_df[\"pg_cos\"] = filtered_df[\"pg_embedding\"].apply(lambda x: np.array(x)@embedded_prompt)\n",
    "    ranked_filtered_df = filtered_df.sort_values(by=\"pg_cos\",ascending=False)\n",
    "    #display(ranked_filtered_df.head())\n",
    "    #Find suitable pages\n",
    "    #rank_filtered_df[\"text\"][0:k_pages]\n",
    "    \n",
    "    idx_pg_pairs = sorted(list(zip(ranked_filtered_df.index[0:k_pages],ranked_filtered_df['page'][0:k_pages])))\n",
    "    idx_pg_dict = {}\n",
    "    for key, value in idx_pg_pairs:\n",
    "        idx_pg_dict.setdefault(key, []).append(value)\n",
    "        \n",
    "    for key,value in idx_pg_dict.items():\n",
    "        page_list = value\n",
    "        new_list = []\n",
    "        for i,page in enumerate(page_list):\n",
    "            if i == len(page_list)-1:\n",
    "                new_list.append(page)\n",
    "                new_list.append(page+1)\n",
    "                break\n",
    "            if (page_list[i+1] - page) >= 4:\n",
    "                new_list.append(page-1)\n",
    "                new_list.append(page)\n",
    "                new_list.append(page+1)\n",
    "            else:\n",
    "                new_list.append(page-1)\n",
    "                for pgno in list(range(page,page_list[i+1])):\n",
    "                    new_list.append(pgno)\n",
    "        idx_pg_dict[key] = list(set([i for i in new_list if i != 0]))\n",
    "    for ID,pages in idx_pg_dict.items():\n",
    "        with open('Multiple Documents/logfile.txt', 'a') as f:\n",
    "            f.write(\"pages for {}:\".format(pdf_dict[ID])+ str(pages))\n",
    "            f.write(\"\\n\")\n",
    "        print(\"pages for {}:\".format(pdf_dict[ID]),pages)\n",
    "    \n",
    "    final_list = []\n",
    "    for ID, pages in idx_pg_dict.items():\n",
    "        for page in pages:\n",
    "            final_list.append(get_page_text(ID,page))\n",
    "    return \" \".join(final_list)\n",
    "    \n",
    "    \n",
    "    \n",
    "    \n"
   ]
  },
  {
   "cell_type": "code",
   "execution_count": 18,
   "id": "f62a9ce0",
   "metadata": {},
   "outputs": [],
   "source": [
    "from IPython.display import clear_output"
   ]
  },
  {
   "cell_type": "code",
   "execution_count": 50,
   "id": "b1498042",
   "metadata": {},
   "outputs": [
    {
     "name": "stdout",
     "output_type": "stream",
     "text": [
      "ChatGPT:  According to my resources, here are some tips for territorial domination in chess:\n",
      "\n",
      "1. Control the center of the board: The center of the board is crucial in chess. Try to occupy and control the central squares (d4, d5, e4, e5) as early as possible. This will give you more options and flexibility to maneuver your pieces.\n",
      "\n",
      "2. Push pawns to gain space: Advanced pawns create territorial advantage. By pushing your pawns forward, you can create more space for your pieces to operate and limit your opponent's options.\n",
      "\n",
      "3. Keep your pieces coordinated and active: Develop and bring out your high-value pieces (queen, rooks, bishops, knights) and position them in a way that they support each other. Avoid leaving any piece inactive and utilize them effectively to control and dominate the board.\n",
      "\n",
      "4. Defend your territories: Once you have gained control of certain areas, make sure to defend them adequately. Protect your pieces and maintain strong positions to prevent your opponent from infiltrating and taking over your territories.\n",
      "\n",
      "5. Look for weaknesses in your opponent's position: Identify weak squares or vulnerable pieces in your opponent's position and exploit them to your advantage. Control these weak areas and put pressure on your opponent's position, forcing them into defensive positions.\n",
      "\n",
      "Please note that these tips are based on the information provided in the available manual text.\n"
     ]
    }
   ],
   "source": [
    "premise = \"You’re a technical support bot that has access to manuals. The manual information is here: \"\n",
    "messages=[\n",
    "    {\"role\": \"system\", \"content\": premise}\n",
    "      ]\n",
    "response_list = []\n",
    "def conversation(response):\n",
    "    response_list.append(response)\n",
    "# If there is no stored info, store the first 10 similar pages based on the user's prompts\n",
    "    with open('Multiple Documents/logfile.txt', 'a') as f:\n",
    "        f.write(\"---Query Start---\\n\")\n",
    "        f.write(response + \"\\n\")\n",
    "    if len(messages) == 1:\n",
    "        messages[0][\"content\"] += get_suitable_text(response,k_pages=4)\n",
    "\n",
    "    #print(len(messages))\n",
    "    \n",
    "    content = \"Question: \" + response + \" Notes: You CAN ONLY USE INFO FROM THE MANUAL TEXT I REPEAT.  You CAN ONLY USE INFO FROM THE MANUAL TEXT. If there is nothing available in the text, SAY I don't have the info. Do not generalize answers. Do not state the page numbers. Remember the answers can be from different manuals. Say 'According to my resources' if you understand this along with your response\"\n",
    "    messages.append({\"role\": \"user\", \"content\": content})\n",
    "    \n",
    "    completion = openai.ChatCompletion.create(\n",
    "    model=\"gpt-3.5-turbo-16k-0613\",\n",
    "    messages=messages,\n",
    "    )\n",
    "    message = completion[\"choices\"][0][\"message\"]\n",
    "    \n",
    "    \n",
    "    \n",
    "    chat_response = completion.choices[0].message.content\n",
    "    messages.append({\"role\": \"assistant\", \"content\": chat_response})\n",
    "    for i in messages:\n",
    "        if i['role'] == \"user\":\n",
    "            pass\n",
    "            #print(\"User: \", i['content'])\n",
    "            #print(\"\\n\")\n",
    "        elif i['role'] == \"assistant\":\n",
    "            clear_output()\n",
    "            with open('Multiple Documents/logfile.txt', 'a') as f:\n",
    "                f.write(i['content'])\n",
    "            print(\"ChatGPT: \", i['content'])\n",
    "        #print(\"\\n\")\n",
    "    with open('Multiple Documents/logfile.txt', 'a') as f:\n",
    "        f.write(\"\\n---Query End---\\n\\n\\n\")\n",
    "    #print(messages[0][\"content\"])\n",
    "    #return (response,messages[-1][\"content\"])\n",
    "conversation(\"Give me tips for territorial domination in chess\")\n",
    "\n",
    "\n"
   ]
  },
  {
   "cell_type": "markdown",
   "id": "36500e2f",
   "metadata": {},
   "source": [
    "### Creating a Database and a Feature for Adding documents"
   ]
  },
  {
   "cell_type": "code",
   "execution_count": 137,
   "id": "f2d96b35",
   "metadata": {},
   "outputs": [
    {
     "name": "stdout",
     "output_type": "stream",
     "text": [
      "ChatGPT:  I apologize, but I don't have access to step-by-step guides or specific instructions on modifying the C file to enable the PAPRD feature. The manual text does not provide detailed instructions on modifying the C file for this specific purpose. It only mentions that the PAPRD feature can be enabled at compile time by defining the \"ATH_SUPPORT_PAPRD\" compile flag.\n",
      "\n",
      "However, I can provide some general guidance on how to modify C files:\n",
      "\n",
      "1. Locate the C file: Find the specific C file that corresponds to the PAPRD feature implementation. The manual should provide the name or location of the file.\n",
      "\n",
      "2. Open the C file: Use a text editor or an Integrated Development Environment (IDE) to open the C file.\n",
      "\n",
      "3. Search for compile flags: Look for preprocessor directives or `#ifdef` statements that check for compile flags. These flags determine whether certain features or code blocks are included or excluded during compilation.\n",
      "\n",
      "4. Add the compile flag: Depending on the existing code structure, there might be a section related to PAPRD functionality. Look for the presence of `#ifdef` statements checking for \"ATH_SUPPORT_PAPRD\". If the flag is not defined, add the following line before the `#ifdef` statement:\n",
      "\n",
      "   ```\n",
      "   #define ATH_SUPPORT_PAPRD\n",
      "   ```\n",
      "\n",
      "   If a similar flag is already present but commented out, remove the comment characters and make sure the flag is defined.\n",
      "\n",
      "5. Save the changes: Once you have made the necessary modifications, save the C file.\n",
      "\n",
      "6. Recompile the code: Recompile the code with the modified C file. Follow the compilation process specified for your specific platform or build system.\n",
      "\n",
      "Please note that these steps are general guidelines and may not apply directly to the specific implementation of the PAPRD feature in your project. It's always a good idea to consult the documentation or programming guidelines provided with the project for more accurate and detailed instructions.\n"
     ]
    }
   ],
   "source": [
    "conversation(\"Show me a step by step guide that is easy to follow to do this, and give easy explanations throughout\")"
   ]
  },
  {
   "cell_type": "code",
   "execution_count": 95,
   "id": "b22adf62",
   "metadata": {},
   "outputs": [
    {
     "data": {
      "text/html": [
       "<div>\n",
       "<style scoped>\n",
       "    .dataframe tbody tr th:only-of-type {\n",
       "        vertical-align: middle;\n",
       "    }\n",
       "\n",
       "    .dataframe tbody tr th {\n",
       "        vertical-align: top;\n",
       "    }\n",
       "\n",
       "    .dataframe thead th {\n",
       "        text-align: right;\n",
       "    }\n",
       "</style>\n",
       "<table border=\"1\" class=\"dataframe\">\n",
       "  <thead>\n",
       "    <tr style=\"text-align: right;\">\n",
       "      <th></th>\n",
       "      <th>page</th>\n",
       "      <th>text</th>\n",
       "      <th>pg_embedding</th>\n",
       "      <th>pdf</th>\n",
       "      <th>avg_embedding</th>\n",
       "    </tr>\n",
       "    <tr>\n",
       "      <th>id</th>\n",
       "      <th></th>\n",
       "      <th></th>\n",
       "      <th></th>\n",
       "      <th></th>\n",
       "      <th></th>\n",
       "    </tr>\n",
       "  </thead>\n",
       "  <tbody>\n",
       "    <tr>\n",
       "      <th>0</th>\n",
       "      <td>1</td>\n",
       "      <td>|start of page 1 © 2019 LitePoint, A Teradyne ...</td>\n",
       "      <td>[0.0035223152954131365, 0.022471480071544647, ...</td>\n",
       "      <td>Wi-Fi-6-OFDMA-App-Notes-091319-web.pdf</td>\n",
       "      <td>[0.005741071686233309, 0.014976223549720917, -...</td>\n",
       "    </tr>\n",
       "    <tr>\n",
       "      <th>0</th>\n",
       "      <td>2</td>\n",
       "      <td>|start of page 2 Wi-Fi 6 OFDMA Pre-correction ...</td>\n",
       "      <td>[0.018090346828103065, 0.018831972032785416, -...</td>\n",
       "      <td>Wi-Fi-6-OFDMA-App-Notes-091319-web.pdf</td>\n",
       "      <td>[0.005741071686233309, 0.014976223549720917, -...</td>\n",
       "    </tr>\n",
       "    <tr>\n",
       "      <th>0</th>\n",
       "      <td>3</td>\n",
       "      <td>|start of page 3 Wi-Fi 6 OFDMA Pre-correction ...</td>\n",
       "      <td>[0.006059110164642334, 0.012037656269967556, -...</td>\n",
       "      <td>Wi-Fi-6-OFDMA-App-Notes-091319-web.pdf</td>\n",
       "      <td>[0.005741071686233309, 0.014976223549720917, -...</td>\n",
       "    </tr>\n",
       "    <tr>\n",
       "      <th>0</th>\n",
       "      <td>4</td>\n",
       "      <td>|start of page 4 Wi-Fi 6 OFDMA Pre-correction ...</td>\n",
       "      <td>[0.008734132163226604, 0.007961680181324482, -...</td>\n",
       "      <td>Wi-Fi-6-OFDMA-App-Notes-091319-web.pdf</td>\n",
       "      <td>[0.005741071686233309, 0.014976223549720917, -...</td>\n",
       "    </tr>\n",
       "    <tr>\n",
       "      <th>0</th>\n",
       "      <td>5</td>\n",
       "      <td>|start of page 5 Wi-Fi 6 OFDMA Pre-correction ...</td>\n",
       "      <td>[0.023909470066428185, 0.008188648149371147, -...</td>\n",
       "      <td>Wi-Fi-6-OFDMA-App-Notes-091319-web.pdf</td>\n",
       "      <td>[0.005741071686233309, 0.014976223549720917, -...</td>\n",
       "    </tr>\n",
       "    <tr>\n",
       "      <th>...</th>\n",
       "      <td>...</td>\n",
       "      <td>...</td>\n",
       "      <td>...</td>\n",
       "      <td>...</td>\n",
       "      <td>...</td>\n",
       "    </tr>\n",
       "    <tr>\n",
       "      <th>8</th>\n",
       "      <td>2</td>\n",
       "      <td>|start of page 2       Dynamic Frequency Selec...</td>\n",
       "      <td>[-0.012744361534714699, 0.010036693885922432, ...</td>\n",
       "      <td>RadioChannelDFS.pdf</td>\n",
       "      <td>[-0.0008843569473053018, 0.008315470098750666,...</td>\n",
       "    </tr>\n",
       "    <tr>\n",
       "      <th>8</th>\n",
       "      <td>3</td>\n",
       "      <td>|start of page 3       Dynamic Frequency Selec...</td>\n",
       "      <td>[-0.003540026256814599, 0.009645288810133934, ...</td>\n",
       "      <td>RadioChannelDFS.pdf</td>\n",
       "      <td>[-0.0008843569473053018, 0.008315470098750666,...</td>\n",
       "    </tr>\n",
       "    <tr>\n",
       "      <th>8</th>\n",
       "      <td>4</td>\n",
       "      <td>|start of page 4       Dynamic Frequency Selec...</td>\n",
       "      <td>[-0.00892565492540598, 0.01575360633432865, 0....</td>\n",
       "      <td>RadioChannelDFS.pdf</td>\n",
       "      <td>[-0.0008843569473053018, 0.008315470098750666,...</td>\n",
       "    </tr>\n",
       "    <tr>\n",
       "      <th>8</th>\n",
       "      <td>5</td>\n",
       "      <td>|start of page 5       Dynamic Frequency Selec...</td>\n",
       "      <td>[0.009328504092991352, -0.0005705735529772937,...</td>\n",
       "      <td>RadioChannelDFS.pdf</td>\n",
       "      <td>[-0.0008843569473053018, 0.008315470098750666,...</td>\n",
       "    </tr>\n",
       "    <tr>\n",
       "      <th>8</th>\n",
       "      <td>6</td>\n",
       "      <td>|start of page 6       Dynamic Frequency Selec...</td>\n",
       "      <td>[0.005379965528845787, 0.0015203541843220592, ...</td>\n",
       "      <td>RadioChannelDFS.pdf</td>\n",
       "      <td>[-0.0008843569473053018, 0.008315470098750666,...</td>\n",
       "    </tr>\n",
       "  </tbody>\n",
       "</table>\n",
       "<p>1379 rows × 5 columns</p>\n",
       "</div>"
      ],
      "text/plain": [
       "    page                                               text  \\\n",
       "id                                                            \n",
       "0      1  |start of page 1 © 2019 LitePoint, A Teradyne ...   \n",
       "0      2  |start of page 2 Wi-Fi 6 OFDMA Pre-correction ...   \n",
       "0      3  |start of page 3 Wi-Fi 6 OFDMA Pre-correction ...   \n",
       "0      4  |start of page 4 Wi-Fi 6 OFDMA Pre-correction ...   \n",
       "0      5  |start of page 5 Wi-Fi 6 OFDMA Pre-correction ...   \n",
       "..   ...                                                ...   \n",
       "8      2  |start of page 2       Dynamic Frequency Selec...   \n",
       "8      3  |start of page 3       Dynamic Frequency Selec...   \n",
       "8      4  |start of page 4       Dynamic Frequency Selec...   \n",
       "8      5  |start of page 5       Dynamic Frequency Selec...   \n",
       "8      6  |start of page 6       Dynamic Frequency Selec...   \n",
       "\n",
       "                                         pg_embedding  \\\n",
       "id                                                      \n",
       "0   [0.0035223152954131365, 0.022471480071544647, ...   \n",
       "0   [0.018090346828103065, 0.018831972032785416, -...   \n",
       "0   [0.006059110164642334, 0.012037656269967556, -...   \n",
       "0   [0.008734132163226604, 0.007961680181324482, -...   \n",
       "0   [0.023909470066428185, 0.008188648149371147, -...   \n",
       "..                                                ...   \n",
       "8   [-0.012744361534714699, 0.010036693885922432, ...   \n",
       "8   [-0.003540026256814599, 0.009645288810133934, ...   \n",
       "8   [-0.00892565492540598, 0.01575360633432865, 0....   \n",
       "8   [0.009328504092991352, -0.0005705735529772937,...   \n",
       "8   [0.005379965528845787, 0.0015203541843220592, ...   \n",
       "\n",
       "                                       pdf  \\\n",
       "id                                           \n",
       "0   Wi-Fi-6-OFDMA-App-Notes-091319-web.pdf   \n",
       "0   Wi-Fi-6-OFDMA-App-Notes-091319-web.pdf   \n",
       "0   Wi-Fi-6-OFDMA-App-Notes-091319-web.pdf   \n",
       "0   Wi-Fi-6-OFDMA-App-Notes-091319-web.pdf   \n",
       "0   Wi-Fi-6-OFDMA-App-Notes-091319-web.pdf   \n",
       "..                                     ...   \n",
       "8                      RadioChannelDFS.pdf   \n",
       "8                      RadioChannelDFS.pdf   \n",
       "8                      RadioChannelDFS.pdf   \n",
       "8                      RadioChannelDFS.pdf   \n",
       "8                      RadioChannelDFS.pdf   \n",
       "\n",
       "                                        avg_embedding  \n",
       "id                                                     \n",
       "0   [0.005741071686233309, 0.014976223549720917, -...  \n",
       "0   [0.005741071686233309, 0.014976223549720917, -...  \n",
       "0   [0.005741071686233309, 0.014976223549720917, -...  \n",
       "0   [0.005741071686233309, 0.014976223549720917, -...  \n",
       "0   [0.005741071686233309, 0.014976223549720917, -...  \n",
       "..                                                ...  \n",
       "8   [-0.0008843569473053018, 0.008315470098750666,...  \n",
       "8   [-0.0008843569473053018, 0.008315470098750666,...  \n",
       "8   [-0.0008843569473053018, 0.008315470098750666,...  \n",
       "8   [-0.0008843569473053018, 0.008315470098750666,...  \n",
       "8   [-0.0008843569473053018, 0.008315470098750666,...  \n",
       "\n",
       "[1379 rows x 5 columns]"
      ]
     },
     "execution_count": 95,
     "metadata": {},
     "output_type": "execute_result"
    }
   ],
   "source": [
    "final_df"
   ]
  },
  {
   "cell_type": "code",
   "execution_count": 28,
   "id": "a4ae0562",
   "metadata": {},
   "outputs": [
    {
     "data": {
      "text/plain": [
       "8"
      ]
     },
     "execution_count": 28,
     "metadata": {},
     "output_type": "execute_result"
    }
   ],
   "source": [
    "\n",
    "#pdf_dict"
   ]
  },
  {
   "cell_type": "code",
   "execution_count": 30,
   "id": "bcc543d9",
   "metadata": {},
   "outputs": [
    {
     "data": {
      "text/plain": [
       "('Wi-Fi-6-OFDMA-App-Notes-091319-web.pdf',\n",
       "     page                                               text  \\\n",
       " 0      1  |start of page 1 © 2019 LitePoint, A Teradyne ...   \n",
       " 1      2  |start of page 2 Wi-Fi 6 OFDMA Pre-correction ...   \n",
       " 2      3  |start of page 3 Wi-Fi 6 OFDMA Pre-correction ...   \n",
       " 3      4  |start of page 4 Wi-Fi 6 OFDMA Pre-correction ...   \n",
       " 4      5  |start of page 5 Wi-Fi 6 OFDMA Pre-correction ...   \n",
       " 5      6  |start of page 6 Wi-Fi 6 OFDMA Pre-correction ...   \n",
       " 6      7  |start of page 7 Wi-Fi 6 OFDMA Pre-correction ...   \n",
       " 7      8  |start of page 8 Wi-Fi 6 OFDMA Pre-correction ...   \n",
       " 8      9  |start of page 9 Wi-Fi 6 OFDMA Pre-correction ...   \n",
       " 9     10  |start of page 10 Wi-Fi 6 OFDMA Pre-correction...   \n",
       " 10    11  |start of page 11 TRADEMARKS\\nLitePoint and th...   \n",
       " \n",
       "                                          pg_embedding  id  \n",
       " 0   [0.0035223152954131365, 0.022471480071544647, ...   0  \n",
       " 1   [0.018090346828103065, 0.018831972032785416, -...   0  \n",
       " 2   [0.006059110164642334, 0.012037656269967556, -...   0  \n",
       " 3   [0.008734132163226604, 0.007961680181324482, -...   0  \n",
       " 4   [0.023909470066428185, 0.008188648149371147, -...   0  \n",
       " 5   [0.007194570731371641, 0.015330875292420387, -...   0  \n",
       " 6   [-0.017019174993038177, 0.016363494098186493, ...   0  \n",
       " 7   [-0.005549427587538958, 0.009635420516133308, ...   0  \n",
       " 8   [-0.0017124541336670518, 0.031832121312618256,...   0  \n",
       " 9   [0.012230055406689644, 0.016560811549425125, -...   0  \n",
       " 10  [0.007692844606935978, 0.005524299573153257, -...   0  )"
      ]
     },
     "execution_count": 30,
     "metadata": {},
     "output_type": "execute_result"
    }
   ],
   "source": [
    "df_list[0]"
   ]
  },
  {
   "cell_type": "code",
   "execution_count": 65,
   "id": "11003589",
   "metadata": {},
   "outputs": [
    {
     "data": {
      "text/plain": [
       "(1536,)"
      ]
     },
     "execution_count": 65,
     "metadata": {},
     "output_type": "execute_result"
    }
   ],
   "source": [
    "np.array(embed(\"hi\")).shape"
   ]
  },
  {
   "cell_type": "markdown",
   "id": "c4e7ba78",
   "metadata": {},
   "source": [
    "### Reformatting Everything"
   ]
  },
  {
   "cell_type": "code",
   "execution_count": 66,
   "id": "97f4461a",
   "metadata": {},
   "outputs": [],
   "source": [
    "from docarray import BaseDoc\n",
    "from docarray.typing import NdArray\n",
    "\n",
    "class PageDoc(BaseDoc):\n",
    "    page_txt: str = ''\n",
    "    pdf_id: int = 0\n",
    "    page_no: int = 0\n",
    "    embedding: NdArray[1536]\n",
    "\n",
    "class ManualDoc(BaseDoc):\n",
    "    pdf_title: str = ''\n",
    "    pdf_id: int = 0\n",
    "    embedding: NdArray[1536]\n",
    "\n",
    "class ToyDoc(BaseDoc):\n",
    "    text: str = ''\n",
    "    embedding: NdArray[128]"
   ]
  },
  {
   "cell_type": "code",
   "execution_count": 67,
   "id": "8f1fa677",
   "metadata": {},
   "outputs": [],
   "source": [
    "from docarray import DocList\n",
    "from vectordb import InMemoryExactNNVectorDB, HNSWVectorDB"
   ]
  },
  {
   "cell_type": "code",
   "execution_count": 91,
   "id": "0021b836",
   "metadata": {},
   "outputs": [],
   "source": [
    "?InMemoryExactNNVectorDB"
   ]
  },
  {
   "cell_type": "code",
   "execution_count": 70,
   "id": "ae89619d",
   "metadata": {},
   "outputs": [
    {
     "ename": "TypeError",
     "evalue": "<lambda>() missing 3 required positional arguments: 'is_singleton_doc', 'parameters_is_pydantic_model', and 'parameters_model'",
     "output_type": "error",
     "traceback": [
      "\u001b[0;31m---------------------------------------------------------------------------\u001b[0m",
      "\u001b[0;31mTypeError\u001b[0m                                 Traceback (most recent call last)",
      "\u001b[0;32m/var/folders/9g/btnfbnzs5s98j60gmhcn4fnh0000gn/T/ipykernel_24060/2637079821.py\u001b[0m in \u001b[0;36m<module>\u001b[0;34m\u001b[0m\n\u001b[0;32m----> 1\u001b[0;31m \u001b[0mdb\u001b[0m \u001b[0;34m=\u001b[0m \u001b[0mInMemoryExactNNVectorDB\u001b[0m\u001b[0;34m[\u001b[0m\u001b[0mToyDoc\u001b[0m\u001b[0;34m]\u001b[0m\u001b[0;34m(\u001b[0m\u001b[0mworkspace\u001b[0m\u001b[0;34m=\u001b[0m\u001b[0;34m'./prototype'\u001b[0m\u001b[0;34m)\u001b[0m\u001b[0;34m\u001b[0m\u001b[0;34m\u001b[0m\u001b[0m\n\u001b[0m\u001b[1;32m      2\u001b[0m \u001b[0;34m\u001b[0m\u001b[0m\n\u001b[1;32m      3\u001b[0m \u001b[0;31m# Index a list of documents with random embeddings\u001b[0m\u001b[0;34m\u001b[0m\u001b[0;34m\u001b[0m\u001b[0m\n\u001b[1;32m      4\u001b[0m \u001b[0mdoc_list\u001b[0m \u001b[0;34m=\u001b[0m \u001b[0;34m[\u001b[0m\u001b[0mManualDoc\u001b[0m\u001b[0;34m(\u001b[0m\u001b[0mpdf_title\u001b[0m\u001b[0;34m=\u001b[0m\u001b[0;34mf'toy doc {i}'\u001b[0m\u001b[0;34m,\u001b[0m \u001b[0mpdf_id\u001b[0m \u001b[0;34m=\u001b[0m \u001b[0mi\u001b[0m\u001b[0;34m,\u001b[0m \u001b[0membedding\u001b[0m\u001b[0;34m=\u001b[0m\u001b[0mnp\u001b[0m\u001b[0;34m.\u001b[0m\u001b[0mrandom\u001b[0m\u001b[0;34m.\u001b[0m\u001b[0mrand\u001b[0m\u001b[0;34m(\u001b[0m\u001b[0;36m1536\u001b[0m\u001b[0;34m)\u001b[0m\u001b[0;34m)\u001b[0m \u001b[0;32mfor\u001b[0m \u001b[0mi\u001b[0m \u001b[0;32min\u001b[0m \u001b[0mrange\u001b[0m\u001b[0;34m(\u001b[0m\u001b[0;36m1000\u001b[0m\u001b[0;34m)\u001b[0m\u001b[0;34m]\u001b[0m\u001b[0;34m\u001b[0m\u001b[0;34m\u001b[0m\u001b[0m\n\u001b[1;32m      5\u001b[0m \u001b[0mdb\u001b[0m\u001b[0;34m.\u001b[0m\u001b[0mindex\u001b[0m\u001b[0;34m(\u001b[0m\u001b[0minputs\u001b[0m\u001b[0;34m=\u001b[0m\u001b[0mDocList\u001b[0m\u001b[0;34m[\u001b[0m\u001b[0mManualDoc\u001b[0m\u001b[0;34m]\u001b[0m\u001b[0;34m(\u001b[0m\u001b[0mdoc_list\u001b[0m\u001b[0;34m)\u001b[0m\u001b[0;34m)\u001b[0m\u001b[0;34m\u001b[0m\u001b[0;34m\u001b[0m\u001b[0m\n",
      "\u001b[0;32m~/opt/anaconda3/lib/python3.9/site-packages/vectordb/db/base.py\u001b[0m in \u001b[0;36m__init__\u001b[0;34m(self, *args, **kwargs)\u001b[0m\n\u001b[1;32m     59\u001b[0m         \u001b[0mkwargs\u001b[0m\u001b[0;34m[\u001b[0m\u001b[0;34m'requests'\u001b[0m\u001b[0;34m]\u001b[0m \u001b[0;34m=\u001b[0m \u001b[0mREQUESTS_MAP\u001b[0m\u001b[0;34m\u001b[0m\u001b[0;34m\u001b[0m\u001b[0m\n\u001b[1;32m     60\u001b[0m         \u001b[0mkwargs\u001b[0m\u001b[0;34m[\u001b[0m\u001b[0;34m'runtime_args'\u001b[0m\u001b[0;34m]\u001b[0m \u001b[0;34m=\u001b[0m \u001b[0;34m{\u001b[0m\u001b[0;34m'workspace'\u001b[0m\u001b[0;34m:\u001b[0m \u001b[0mself\u001b[0m\u001b[0;34m.\u001b[0m\u001b[0m_workspace\u001b[0m\u001b[0;34m}\u001b[0m\u001b[0;34m\u001b[0m\u001b[0;34m\u001b[0m\u001b[0m\n\u001b[0;32m---> 61\u001b[0;31m         \u001b[0mself\u001b[0m\u001b[0;34m.\u001b[0m\u001b[0m_executor\u001b[0m \u001b[0;34m=\u001b[0m \u001b[0mself\u001b[0m\u001b[0;34m.\u001b[0m\u001b[0m_executor_cls\u001b[0m\u001b[0;34m(\u001b[0m\u001b[0;34m*\u001b[0m\u001b[0margs\u001b[0m\u001b[0;34m,\u001b[0m \u001b[0;34m**\u001b[0m\u001b[0mkwargs\u001b[0m\u001b[0;34m)\u001b[0m\u001b[0;34m\u001b[0m\u001b[0;34m\u001b[0m\u001b[0m\n\u001b[0m\u001b[1;32m     62\u001b[0m \u001b[0;34m\u001b[0m\u001b[0m\n\u001b[1;32m     63\u001b[0m     \u001b[0;34m@\u001b[0m\u001b[0mclassmethod\u001b[0m\u001b[0;34m\u001b[0m\u001b[0;34m\u001b[0m\u001b[0m\n",
      "\u001b[0;32m~/opt/anaconda3/lib/python3.9/site-packages/jina/serve/executors/decorators.py\u001b[0m in \u001b[0;36marg_wrapper\u001b[0;34m(self, *args, **kwargs)\u001b[0m\n\u001b[1;32m     59\u001b[0m                 \u001b[0;32mreturn\u001b[0m \u001b[0mf\u001b[0m\u001b[0;34m\u001b[0m\u001b[0;34m\u001b[0m\u001b[0m\n\u001b[1;32m     60\u001b[0m             \u001b[0;32melse\u001b[0m\u001b[0;34m:\u001b[0m\u001b[0;34m\u001b[0m\u001b[0;34m\u001b[0m\u001b[0m\n\u001b[0;32m---> 61\u001b[0;31m                 \u001b[0;32mreturn\u001b[0m \u001b[0mfunc\u001b[0m\u001b[0;34m(\u001b[0m\u001b[0mself\u001b[0m\u001b[0;34m,\u001b[0m \u001b[0;34m*\u001b[0m\u001b[0margs\u001b[0m\u001b[0;34m,\u001b[0m \u001b[0;34m**\u001b[0m\u001b[0mkwargs\u001b[0m\u001b[0;34m)\u001b[0m\u001b[0;34m\u001b[0m\u001b[0;34m\u001b[0m\u001b[0m\n\u001b[0m\u001b[1;32m     62\u001b[0m \u001b[0;34m\u001b[0m\u001b[0m\n\u001b[1;32m     63\u001b[0m         \u001b[0;32mreturn\u001b[0m \u001b[0marg_wrapper\u001b[0m\u001b[0;34m\u001b[0m\u001b[0;34m\u001b[0m\u001b[0m\n",
      "\u001b[0;32m~/opt/anaconda3/lib/python3.9/site-packages/jina/serve/helper.py\u001b[0m in \u001b[0;36marg_wrapper\u001b[0;34m(self, *args, **kwargs)\u001b[0m\n\u001b[1;32m     71\u001b[0m             \u001b[0mself\u001b[0m\u001b[0;34m.\u001b[0m\u001b[0m_init_kwargs_dict\u001b[0m \u001b[0;34m=\u001b[0m \u001b[0mtmp\u001b[0m\u001b[0;34m\u001b[0m\u001b[0;34m\u001b[0m\u001b[0m\n\u001b[1;32m     72\u001b[0m         \u001b[0mconvert_tuple_to_list\u001b[0m\u001b[0;34m(\u001b[0m\u001b[0mself\u001b[0m\u001b[0;34m.\u001b[0m\u001b[0m_init_kwargs_dict\u001b[0m\u001b[0;34m)\u001b[0m\u001b[0;34m\u001b[0m\u001b[0;34m\u001b[0m\u001b[0m\n\u001b[0;32m---> 73\u001b[0;31m         \u001b[0mf\u001b[0m \u001b[0;34m=\u001b[0m \u001b[0mfunc\u001b[0m\u001b[0;34m(\u001b[0m\u001b[0mself\u001b[0m\u001b[0;34m,\u001b[0m \u001b[0;34m*\u001b[0m\u001b[0margs\u001b[0m\u001b[0;34m,\u001b[0m \u001b[0;34m**\u001b[0m\u001b[0mkwargs\u001b[0m\u001b[0;34m)\u001b[0m\u001b[0;34m\u001b[0m\u001b[0;34m\u001b[0m\u001b[0m\n\u001b[0m\u001b[1;32m     74\u001b[0m         \u001b[0;32mreturn\u001b[0m \u001b[0mf\u001b[0m\u001b[0;34m\u001b[0m\u001b[0;34m\u001b[0m\u001b[0m\n\u001b[1;32m     75\u001b[0m \u001b[0;34m\u001b[0m\u001b[0m\n",
      "\u001b[0;32m~/opt/anaconda3/lib/python3.9/site-packages/vectordb/db/executors/inmemory_exact_indexer.py\u001b[0m in \u001b[0;36m__init__\u001b[0;34m(self, *args, **kwargs)\u001b[0m\n\u001b[1;32m     13\u001b[0m     \u001b[0;32mdef\u001b[0m \u001b[0m__init__\u001b[0m\u001b[0;34m(\u001b[0m\u001b[0mself\u001b[0m\u001b[0;34m,\u001b[0m \u001b[0;34m*\u001b[0m\u001b[0margs\u001b[0m\u001b[0;34m,\u001b[0m \u001b[0;34m**\u001b[0m\u001b[0mkwargs\u001b[0m\u001b[0;34m)\u001b[0m\u001b[0;34m:\u001b[0m\u001b[0;34m\u001b[0m\u001b[0;34m\u001b[0m\u001b[0m\n\u001b[1;32m     14\u001b[0m         \u001b[0;32mfrom\u001b[0m \u001b[0mdocarray\u001b[0m\u001b[0;34m.\u001b[0m\u001b[0mindex\u001b[0m \u001b[0;32mimport\u001b[0m \u001b[0mInMemoryExactNNIndex\u001b[0m\u001b[0;34m\u001b[0m\u001b[0;34m\u001b[0m\u001b[0m\n\u001b[0;32m---> 15\u001b[0;31m         \u001b[0msuper\u001b[0m\u001b[0;34m(\u001b[0m\u001b[0;34m)\u001b[0m\u001b[0;34m.\u001b[0m\u001b[0m__init__\u001b[0m\u001b[0;34m(\u001b[0m\u001b[0;34m*\u001b[0m\u001b[0margs\u001b[0m\u001b[0;34m,\u001b[0m \u001b[0;34m**\u001b[0m\u001b[0mkwargs\u001b[0m\u001b[0;34m)\u001b[0m\u001b[0;34m\u001b[0m\u001b[0;34m\u001b[0m\u001b[0m\n\u001b[0m\u001b[1;32m     16\u001b[0m         \u001b[0mself\u001b[0m\u001b[0;34m.\u001b[0m\u001b[0m_index_file_path\u001b[0m \u001b[0;34m=\u001b[0m \u001b[0;34mf'{self.workspace}/index.bin'\u001b[0m \u001b[0;32mif\u001b[0m \u001b[0mself\u001b[0m\u001b[0;34m.\u001b[0m\u001b[0mhandle_persistence\u001b[0m \u001b[0;32melse\u001b[0m \u001b[0;32mNone\u001b[0m\u001b[0;34m\u001b[0m\u001b[0;34m\u001b[0m\u001b[0m\n\u001b[1;32m     17\u001b[0m         \u001b[0mself\u001b[0m\u001b[0;34m.\u001b[0m\u001b[0m_indexer\u001b[0m \u001b[0;34m=\u001b[0m \u001b[0mInMemoryExactNNIndex\u001b[0m\u001b[0;34m[\u001b[0m\u001b[0mself\u001b[0m\u001b[0;34m.\u001b[0m\u001b[0m_input_schema\u001b[0m\u001b[0;34m]\u001b[0m\u001b[0;34m(\u001b[0m\u001b[0mindex_file_path\u001b[0m\u001b[0;34m=\u001b[0m\u001b[0mself\u001b[0m\u001b[0;34m.\u001b[0m\u001b[0m_index_file_path\u001b[0m\u001b[0;34m)\u001b[0m\u001b[0;34m\u001b[0m\u001b[0;34m\u001b[0m\u001b[0m\n",
      "\u001b[0;32m~/opt/anaconda3/lib/python3.9/site-packages/jina/serve/executors/decorators.py\u001b[0m in \u001b[0;36marg_wrapper\u001b[0;34m(self, *args, **kwargs)\u001b[0m\n\u001b[1;32m     59\u001b[0m                 \u001b[0;32mreturn\u001b[0m \u001b[0mf\u001b[0m\u001b[0;34m\u001b[0m\u001b[0;34m\u001b[0m\u001b[0m\n\u001b[1;32m     60\u001b[0m             \u001b[0;32melse\u001b[0m\u001b[0;34m:\u001b[0m\u001b[0;34m\u001b[0m\u001b[0;34m\u001b[0m\u001b[0m\n\u001b[0;32m---> 61\u001b[0;31m                 \u001b[0;32mreturn\u001b[0m \u001b[0mfunc\u001b[0m\u001b[0;34m(\u001b[0m\u001b[0mself\u001b[0m\u001b[0;34m,\u001b[0m \u001b[0;34m*\u001b[0m\u001b[0margs\u001b[0m\u001b[0;34m,\u001b[0m \u001b[0;34m**\u001b[0m\u001b[0mkwargs\u001b[0m\u001b[0;34m)\u001b[0m\u001b[0;34m\u001b[0m\u001b[0;34m\u001b[0m\u001b[0m\n\u001b[0m\u001b[1;32m     62\u001b[0m \u001b[0;34m\u001b[0m\u001b[0m\n\u001b[1;32m     63\u001b[0m         \u001b[0;32mreturn\u001b[0m \u001b[0marg_wrapper\u001b[0m\u001b[0;34m\u001b[0m\u001b[0;34m\u001b[0m\u001b[0m\n",
      "\u001b[0;32m~/opt/anaconda3/lib/python3.9/site-packages/jina/serve/helper.py\u001b[0m in \u001b[0;36marg_wrapper\u001b[0;34m(self, *args, **kwargs)\u001b[0m\n\u001b[1;32m     71\u001b[0m             \u001b[0mself\u001b[0m\u001b[0;34m.\u001b[0m\u001b[0m_init_kwargs_dict\u001b[0m \u001b[0;34m=\u001b[0m \u001b[0mtmp\u001b[0m\u001b[0;34m\u001b[0m\u001b[0;34m\u001b[0m\u001b[0m\n\u001b[1;32m     72\u001b[0m         \u001b[0mconvert_tuple_to_list\u001b[0m\u001b[0;34m(\u001b[0m\u001b[0mself\u001b[0m\u001b[0;34m.\u001b[0m\u001b[0m_init_kwargs_dict\u001b[0m\u001b[0;34m)\u001b[0m\u001b[0;34m\u001b[0m\u001b[0;34m\u001b[0m\u001b[0m\n\u001b[0;32m---> 73\u001b[0;31m         \u001b[0mf\u001b[0m \u001b[0;34m=\u001b[0m \u001b[0mfunc\u001b[0m\u001b[0;34m(\u001b[0m\u001b[0mself\u001b[0m\u001b[0;34m,\u001b[0m \u001b[0;34m*\u001b[0m\u001b[0margs\u001b[0m\u001b[0;34m,\u001b[0m \u001b[0;34m**\u001b[0m\u001b[0mkwargs\u001b[0m\u001b[0;34m)\u001b[0m\u001b[0;34m\u001b[0m\u001b[0;34m\u001b[0m\u001b[0m\n\u001b[0m\u001b[1;32m     74\u001b[0m         \u001b[0;32mreturn\u001b[0m \u001b[0mf\u001b[0m\u001b[0;34m\u001b[0m\u001b[0;34m\u001b[0m\u001b[0m\n\u001b[1;32m     75\u001b[0m \u001b[0;34m\u001b[0m\u001b[0m\n",
      "\u001b[0;32m~/opt/anaconda3/lib/python3.9/site-packages/vectordb/db/executors/typed_executor.py\u001b[0m in \u001b[0;36m__init__\u001b[0;34m(self, *args, **kwargs)\u001b[0m\n\u001b[1;32m     31\u001b[0m             \u001b[0;32mif\u001b[0m \u001b[0mk\u001b[0m \u001b[0;34m!=\u001b[0m \u001b[0m__dry_run_endpoint__\u001b[0m\u001b[0;34m:\u001b[0m\u001b[0;34m\u001b[0m\u001b[0;34m\u001b[0m\u001b[0m\n\u001b[1;32m     32\u001b[0m                 \u001b[0;32mif\u001b[0m \u001b[0mk\u001b[0m \u001b[0;34m!=\u001b[0m \u001b[0;34m'/search'\u001b[0m\u001b[0;34m:\u001b[0m\u001b[0;34m\u001b[0m\u001b[0;34m\u001b[0m\u001b[0m\n\u001b[0;32m---> 33\u001b[0;31m                     self._requests[k] = _FunctionWithSchema(self._requests[k].fn, DocList[self._input_schema],\n\u001b[0m\u001b[1;32m     34\u001b[0m                                                             DocList[self._input_schema])\n\u001b[1;32m     35\u001b[0m                 \u001b[0;32melse\u001b[0m\u001b[0;34m:\u001b[0m\u001b[0;34m\u001b[0m\u001b[0;34m\u001b[0m\u001b[0m\n",
      "\u001b[0;31mTypeError\u001b[0m: <lambda>() missing 3 required positional arguments: 'is_singleton_doc', 'parameters_is_pydantic_model', and 'parameters_model'"
     ]
    }
   ],
   "source": [
    "db = InMemoryExactNNVectorDB[ToyDoc](workspace='./prototype')\n",
    "\n",
    "# Index a list of documents with random embeddings\n",
    "doc_list = [ManualDoc(pdf_title=f'toy doc {i}', pdf_id = i, embedding=np.random.rand(1536)) for i in range(1000)]\n",
    "db.index(inputs=DocList[ManualDoc](doc_list))\n",
    "\n",
    "# Perform a search query\n",
    "# query = ToyDoc(text='query', embedding=np.random.rand(128))\n",
    "# results = db.search(inputs=DocList[ToyDoc]([query]), limit=10)\n",
    "\n",
    "# # Print out the matches\n",
    "# for m in results[0].matches:\n",
    "#     print(m)"
   ]
  },
  {
   "cell_type": "code",
   "execution_count": null,
   "id": "1442420f",
   "metadata": {},
   "outputs": [],
   "source": [
    "# A way to detect files in local and see if one should be added\n",
    "\n",
    "# Vector DB with embeddings for all manuals\n",
    "# Vector DB for pages for each specific manuals\n",
    "\n",
    "# Embedding thresholding\n",
    "# Custom prompts and continuity between conversation\n",
    "# Way to add more context if needed"
   ]
  },
  {
   "cell_type": "code",
   "execution_count": null,
   "id": "9430234f",
   "metadata": {},
   "outputs": [],
   "source": []
  },
  {
   "cell_type": "code",
   "execution_count": null,
   "id": "dc3a7c26",
   "metadata": {},
   "outputs": [],
   "source": []
  },
  {
   "cell_type": "code",
   "execution_count": null,
   "id": "328bae03",
   "metadata": {},
   "outputs": [],
   "source": []
  }
 ],
 "metadata": {
  "kernelspec": {
   "display_name": "Python 3 (ipykernel)",
   "language": "python",
   "name": "python3"
  },
  "language_info": {
   "codemirror_mode": {
    "name": "ipython",
    "version": 3
   },
   "file_extension": ".py",
   "mimetype": "text/x-python",
   "name": "python",
   "nbconvert_exporter": "python",
   "pygments_lexer": "ipython3",
   "version": "3.9.13"
  }
 },
 "nbformat": 4,
 "nbformat_minor": 5
}
