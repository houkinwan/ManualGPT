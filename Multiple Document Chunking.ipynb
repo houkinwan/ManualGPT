{
 "cells": [
  {
   "cell_type": "markdown",
   "id": "5c6cbc72",
   "metadata": {},
   "source": [
    "### Multiple Documents"
   ]
  },
  {
   "cell_type": "code",
   "execution_count": 183,
   "id": "64b64c43",
   "metadata": {},
   "outputs": [],
   "source": [
    "import PyPDF2 as pdf\n",
    "from PyPDF2 import PdfReader\n",
    "import os\n",
    "import pandas as pd\n",
    "import re\n",
    "import openai\n",
    "import time\n",
    "import pandas as pd\n",
    "import numpy as np\n",
    "import warnings\n",
    "warnings.filterwarnings('ignore')\n",
    "api_key_file = open(\"OPENAI_API_KEY\", \"r\")\n",
    "openai.api_key = api_key_file.read()"
   ]
  },
  {
   "cell_type": "code",
   "execution_count": 5,
   "id": "2da38877",
   "metadata": {},
   "outputs": [],
   "source": [
    "pdf_list = os.listdir(\"pdfs\")"
   ]
  },
  {
   "cell_type": "markdown",
   "id": "d7ebd3ed",
   "metadata": {},
   "source": [
    "#### Assign ID"
   ]
  },
  {
   "cell_type": "code",
   "execution_count": 309,
   "id": "c3ddcad0",
   "metadata": {},
   "outputs": [
    {
     "data": {
      "text/plain": [
       "{0: 'Wi-Fi-6-OFDMA-App-Notes-091319-web.pdf',\n",
       " 1: 'STBC.pdf',\n",
       " 2: 'How to change the country code for WiFi.pdf',\n",
       " 3: 'SPF53_SPF61_programmer guide.pdf',\n",
       " 4: 'usb3-frequency-interference-papers.pdf',\n",
       " 5: 'FCC-Rules-and-Regulations.pdf',\n",
       " 6: 'programming uci shrinked.pdf',\n",
       " 7: 'nor_nand_flash_guide.pdf',\n",
       " 8: 'RadioChannelDFS.pdf'}"
      ]
     },
     "execution_count": 309,
     "metadata": {},
     "output_type": "execute_result"
    }
   ],
   "source": [
    "id_dict = dict(list(zip(pdf_list,range(0,len(pdf_list)))))\n",
    "pdf_dict = {v: k for k, v in id_dict.items()}\n",
    "pdf_dict"
   ]
  },
  {
   "cell_type": "markdown",
   "id": "d1cc66c8",
   "metadata": {},
   "source": [
    "#### Iterate through"
   ]
  },
  {
   "cell_type": "code",
   "execution_count": 21,
   "id": "9e8ecdcf",
   "metadata": {},
   "outputs": [
    {
     "name": "stderr",
     "output_type": "stream",
     "text": [
      "incorrect startxref pointer(1)\n"
     ]
    }
   ],
   "source": [
    "# Create dataframe for each individual pdf\n",
    "df_list = []\n",
    "for i,pdf in enumerate(pdf_list):\n",
    "    \n",
    "    cur_pdf = []\n",
    "    \n",
    "    with open(\"pdfs/\" + pdf,\"rb\") as file:\n",
    "        reader = PdfReader(file)\n",
    "        for j in range(0, len(reader.pages)):\n",
    "            cur_string = reader.pages[j].extract_text()\n",
    "            cur_pdf.append(\"|start of page {} \".format(j+1)+cur_string + \" end of page {}|\".format(j+1))\n",
    "\n",
    "    cur_df = pd.DataFrame({\"page\":list(range(1,len(cur_pdf)+1)),\"text\":cur_pdf})\n",
    "    df_list.append((pdf,cur_df))\n",
    "\n",
    "    \n",
    "\n",
    "    \n"
   ]
  },
  {
   "cell_type": "code",
   "execution_count": 28,
   "id": "f36aa85c",
   "metadata": {},
   "outputs": [],
   "source": [
    "# Create embeddings for each page in each pdf\n",
    "from openai.embeddings_utils import get_embedding\n",
    "def embed(x):\n",
    "    return get_embedding(x, engine=\"text-embedding-ada-002\")\n",
    "\n",
    "for i in df_list:\n",
    "    i[1][\"pg_embedding\"] = i[1][\"text\"].apply(lambda x: embed(x))"
   ]
  },
  {
   "cell_type": "code",
   "execution_count": 45,
   "id": "e1281dfb",
   "metadata": {},
   "outputs": [
    {
     "name": "stdout",
     "output_type": "stream",
     "text": [
      "Wi-Fi-6-OFDMA-App-Notes-091319-web.pdf\n",
      "STBC.pdf\n",
      "How to change the country code for WiFi.pdf\n",
      "SPF53_SPF61_programmer guide.pdf\n",
      "usb3-frequency-interference-papers.pdf\n",
      "FCC-Rules-and-Regulations.pdf\n",
      "programming uci shrinked.pdf\n",
      "nor_nand_flash_guide.pdf\n",
      "RadioChannelDFS.pdf\n"
     ]
    }
   ],
   "source": [
    "# Save all embeddings\n",
    "for df_pair in df_list:\n",
    "    print(df_pair[0])\n",
    "    np.save(\"Multiple Documents/embeddings/\"+df_pair[0][0:-4]+\"_ebded\",np.array(list(df_pair[1]['pg_embedding'])))"
   ]
  },
  {
   "cell_type": "code",
   "execution_count": 53,
   "id": "95a88f4d",
   "metadata": {},
   "outputs": [],
   "source": [
    "# Average Embeddings for Individual Documents\n",
    "avg_embedding_pairs = []\n",
    "\n",
    "for df_pair in df_list:\n",
    "    avg_embedding = np.array(list(df_pair[1][\"pg_embedding\"])).mean(axis=0)\n",
    "    avg_embedding_pairs.append((df_pair[0],avg_embedding))\n"
   ]
  },
  {
   "cell_type": "code",
   "execution_count": 67,
   "id": "6f21b3b6",
   "metadata": {},
   "outputs": [],
   "source": [
    "avg_embedding_pairs_df = pd.DataFrame({\"pdf\":[i[0] for i in avg_embedding_pairs], \"avg_embedding\":[i[1] for i in avg_embedding_pairs], \"id\":list(range(0,len(avg_embedding_pairs)))})"
   ]
  },
  {
   "cell_type": "code",
   "execution_count": 74,
   "id": "3f8efe51",
   "metadata": {},
   "outputs": [],
   "source": [
    "avg_embedding_pairs_df.to_csv(\"Multiple Documents/avg_embedding_pairs_df\")\n"
   ]
  },
  {
   "cell_type": "code",
   "execution_count": 85,
   "id": "b3c34965",
   "metadata": {},
   "outputs": [],
   "source": [
    "entire_df = avg_embedding_pairs_df.copy()\n",
    "\n",
    "\n",
    "\n",
    "for i,df_pair in enumerate(df_list):\n",
    "    df_pair[1][\"id\"] = np.full(df_pair[1].shape[0],i)\n",
    "    \n",
    "    "
   ]
  },
  {
   "cell_type": "code",
   "execution_count": 100,
   "id": "d08fb4a8",
   "metadata": {},
   "outputs": [],
   "source": [
    "final_df = pd.concat([i[1] for i in df_list]).set_index('id').join(entire_df.set_index('id'))\n"
   ]
  },
  {
   "cell_type": "code",
   "execution_count": 101,
   "id": "fd2cf5e1",
   "metadata": {},
   "outputs": [],
   "source": [
    "final_df.to_csv(\"Multiple Documents/final_pdf_df\")"
   ]
  },
  {
   "cell_type": "code",
   "execution_count": 153,
   "id": "9cfc7c4c",
   "metadata": {},
   "outputs": [],
   "source": [
    "def get_suitable_documents(prompt, k_docs=3):\n",
    "    embedded_prompt = embed(prompt)\n",
    "    ranking = avg_embedding_pairs_df.copy()\n",
    "    ranking[\"cos\"] = ranking[\"avg_embedding\"].apply(lambda x: x@embedded_prompt)\n",
    "    ranked_df = ranking.sort_values(by=\"cos\",ascending=False)\n",
    "    print(\"looking at:\",list(ranked_df[\"pdf\"])[0:k_docs])\n",
    "    return list(ranked_df[\"id\"][0:k_docs])"
   ]
  },
  {
   "cell_type": "code",
   "execution_count": 317,
   "id": "45aeca2e",
   "metadata": {},
   "outputs": [],
   "source": [
    "def get_page_text(pdf_ID,pg):\n",
    "    try:\n",
    "        text = final_df[final_df[\"page\"] == pg].loc[pdf_ID][\"text\"]\n",
    "        pdf_name = pdf_dict[pdf_ID]\n",
    "        return \"|||From the manual \" + pdf_name + \": \" + text\n",
    "    except:\n",
    "        return \"\"\n",
    "    \n"
   ]
  },
  {
   "cell_type": "code",
   "execution_count": 332,
   "id": "e436f8c7",
   "metadata": {},
   "outputs": [],
   "source": [
    "def get_suitable_text(prompt,k_docs=3, k_pages=10):\n",
    "    #Find suitable manuals\n",
    "    embedded_prompt = embed(prompt)\n",
    "    doc_ids = get_suitable_documents(prompt,k_docs)\n",
    "    filtered_df = final_df[final_df.index.isin(doc_ids)]\n",
    "    #Merge Documents\n",
    "    filtered_df[\"pg_cos\"] = filtered_df[\"pg_embedding\"].apply(lambda x: np.array(x)@embedded_prompt)\n",
    "    ranked_filtered_df = filtered_df.sort_values(by=\"pg_cos\",ascending=False)\n",
    "    #display(ranked_filtered_df.head())\n",
    "    #Find suitable pages\n",
    "    #rank_filtered_df[\"text\"][0:k_pages]\n",
    "    \n",
    "    idx_pg_pairs = sorted(list(zip(ranked_filtered_df.index[0:k_pages],ranked_filtered_df['page'][0:k_pages])))\n",
    "    idx_pg_dict = {}\n",
    "    for key, value in idx_pg_pairs:\n",
    "        idx_pg_dict.setdefault(key, []).append(value)\n",
    "        \n",
    "    for key,value in idx_pg_dict.items():\n",
    "        page_list = value\n",
    "        new_list = []\n",
    "        for i,page in enumerate(page_list):\n",
    "            if i == len(page_list)-1:\n",
    "                new_list.append(page)\n",
    "                new_list.append(page+1)\n",
    "                break\n",
    "            if (page_list[i+1] - page) >= 4:\n",
    "                new_list.append(page-1)\n",
    "                new_list.append(page)\n",
    "                new_list.append(page+1)\n",
    "            else:\n",
    "                new_list.append(page-1)\n",
    "                for pgno in list(range(page,page_list[i+1])):\n",
    "                    new_list.append(pgno)\n",
    "        idx_pg_dict[key] = list(set([i for i in new_list if i != 0]))\n",
    "    for ID,pages in idx_pg_dict.items():\n",
    "        print(\"pages for {}:\".format(pdf_dict[ID]),pages)\n",
    "    \n",
    "    final_list = []\n",
    "    for ID, pages in idx_pg_dict.items():\n",
    "        for page in pages:\n",
    "            final_list.append(get_page_text(ID,page))\n",
    "    return \" \".join(final_list)\n",
    "    \n",
    "    \n",
    "    \n",
    "    \n"
   ]
  },
  {
   "cell_type": "code",
   "execution_count": 351,
   "id": "eba1379e",
   "metadata": {},
   "outputs": [
    {
     "name": "stdout",
     "output_type": "stream",
     "text": [
      "looking at: ['nor_nand_flash_guide.pdf', 'STBC.pdf', 'Wi-Fi-6-OFDMA-App-Notes-091319-web.pdf']\n",
      "pages for nor_nand_flash_guide.pdf: [1, 2, 3, 5, 6, 7, 8, 9]\n",
      "\n",
      "\n",
      "\n",
      "\n",
      "ChatGPT:  Based on the information available in the manual, the benefits of SLC (single-level cell) NAND flash are as follows:\n",
      "\n",
      "1. High performance and write endurance: SLC NAND has the highest performance and endurance among NAND flash technologies. It offers the fastest NAND throughput and up to 100,000 program/erase cycles.\n",
      "\n",
      "2. Best-in-class reliability: SLC NAND provides the best reliability among NAND flash technologies. It is commonly used in mission-critical systems where high performance and best-in-class reliability are required.\n",
      "\n",
      "3. Lowest cost per bit for ≤1GB densities: SLC NAND is the most expensive NAND flash option but provides the lowest cost per bit when compared to other NAND flash technologies for densities up to 1GB.\n",
      "\n",
      "4. Compatibility with the ONFI-synchronous interface: SLC NAND is compatible with the ONFI (Open NAND Flash Interface) synchronous interface, which ensures compatibility with a wide range of NAND flash-based systems.\n",
      "\n",
      "These benefits of SLC NAND flash can be found on page 7 of the manual.\n",
      "\n",
      "\n"
     ]
    }
   ],
   "source": [
    "premise = \"You’re a technical support bot that has access to manuals. Also always state the page number. The manual information is here: \"\n",
    "messages=[\n",
    "    {\"role\": \"system\", \"content\": premise}\n",
    "      ]\n",
    "response_list = []\n",
    "def conversation(response):\n",
    "    response_list.append(response)\n",
    "# If there is no stored info, store the first 10 similar pages based on the user's prompts\n",
    "\n",
    "    if len(messages) == 1:\n",
    "        messages[0][\"content\"] += get_suitable_text(response,k_pages=4)\n",
    "\n",
    "    #print(len(messages))\n",
    "    \n",
    "    content = \"Question: \" + response + \" Notes: You CAN ONLY USE INFO FROM THE MANUAL TEXT I REPEAT.  You CAN ONLY USE INFO FROM THE MANUAL TEXT. If there is nothing available in the text, SAY I don't have the info. Also state the pages in which you got the info from. Remember the manuals can be from different manuals. Say 'I have looked at the manual' if you understand this along with your response\"\n",
    "    messages.append({\"role\": \"user\", \"content\": content})\n",
    "    \n",
    "    completion = openai.ChatCompletion.create(\n",
    "    model=\"gpt-3.5-turbo-16k-0613\",\n",
    "    messages=messages,\n",
    "    )\n",
    "    message = completion[\"choices\"][0][\"message\"]\n",
    "    \n",
    "    \n",
    "    \n",
    "    chat_response = completion.choices[0].message.content\n",
    "    messages.append({\"role\": \"assistant\", \"content\": chat_response})\n",
    "    \n",
    "    for i in messages:\n",
    "        if i['role'] == \"user\":\n",
    "            pass\n",
    "            #print(\"User: \", i['content'])\n",
    "            #print(\"\\n\")\n",
    "        elif i['role'] == \"assistant\":\n",
    "            print(\"ChatGPT: \", i['content'])\n",
    "        print(\"\\n\")\n",
    "    \n",
    "    #print(messages[0][\"content\"])\n",
    "    #return (response,messages[-1][\"content\"])\n",
    "conversation(\"What is the benefit of SLC NAND\")"
   ]
  }
 ],
 "metadata": {
  "kernelspec": {
   "display_name": "Python 3 (ipykernel)",
   "language": "python",
   "name": "python3"
  },
  "language_info": {
   "codemirror_mode": {
    "name": "ipython",
    "version": 3
   },
   "file_extension": ".py",
   "mimetype": "text/x-python",
   "name": "python",
   "nbconvert_exporter": "python",
   "pygments_lexer": "ipython3",
   "version": "3.9.13"
  }
 },
 "nbformat": 4,
 "nbformat_minor": 5
}
